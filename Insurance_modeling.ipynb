{
 "cells": [
  {
   "cell_type": "code",
   "execution_count": 1,
   "metadata": {
    "collapsed": false
   },
   "outputs": [],
   "source": [
    "import numpy as np\n",
    "import pandas as pd\n",
    "from matplotlib import pyplot as plt\n",
    "%matplotlib inline\n",
    "\n",
    "data_2005 = pd.read_csv('2005.csv')\n",
    "data_2006 = pd.read_csv('2006.csv')\n",
    "data_2007 = pd.read_csv('2007.csv')"
   ]
  },
  {
   "cell_type": "markdown",
   "metadata": {},
   "source": [
    "# Définition des variables globales\n",
    "\n"
   ]
  },
  {
   "cell_type": "code",
   "execution_count": 2,
   "metadata": {
    "collapsed": true
   },
   "outputs": [],
   "source": [
    "RISK_PREMIUM_RATIO = 0.1\n",
    "TRANSITION_PROBABILITY = 0.003\n",
    "SIGMA = 0.01"
   ]
  },
  {
   "cell_type": "markdown",
   "metadata": {},
   "source": [
    "# Traitement des données de l'année 2005 pour estimer le prix en 2006. \n",
    "\n",
    "### le prix juste de 2006 est calculé à partir de l'année 2005 et les valeurs sont donc martigales. \n",
    "### comme le prix juste est martingale, il doit neutraliser la perte."
   ]
  },
  {
   "cell_type": "code",
   "execution_count": 3,
   "metadata": {
    "collapsed": false
   },
   "outputs": [],
   "source": [
    "p = data_2005['Claim_Amount'].sum()/len(data_2005['Claim_Amount'])"
   ]
  },
  {
   "cell_type": "code",
   "execution_count": 4,
   "metadata": {
    "collapsed": false
   },
   "outputs": [],
   "source": [
    "claim_ratio_2005 = len(data_2005[data_2005['Claim_Amount']>0])/len(data_2005['Claim_Amount'])\n",
    "average_severity_2005 = data_2005['Claim_Amount'].sum()/len(data_2005[data_2005['Claim_Amount']>0])"
   ]
  },
  {
   "cell_type": "markdown",
   "metadata": {},
   "source": [
    "### L'estimation de big data permet d'identifier la perte potentielle par client, donc, le prix juste égale à la perte estimée.\n",
    "\n",
    "### Ici, on n'utilise pas le méthode d'apprentissage pour estimer les perte future, mais on suppose que la perte future est connue et on estime la prédiction. \n",
    "\n",
    "On a, par hypothèse:\n",
    "\n",
    "$perte\\ réelle_i = perte\\ estimée_i \\times v_i$\n",
    "\n",
    "pour créer des données positives pour la prédiction, on suppose:\n",
    "\n",
    "si $i$ est un individu qui n'a pas d'accident en 2016:\n",
    "\n",
    "$ perte\\ estimée_i = (perte\\ réelle_i + transition\\ probability \\times perte\\ moyenne) \\times w_i $\n",
    "\n",
    "sinon :\n",
    "\n",
    "$ perte\\ estimée_i = (perte\\ réelle_i - transition\\ probability' \\times perte\\ moyenne) \\times w_i$"
   ]
  },
  {
   "cell_type": "code",
   "execution_count": 5,
   "metadata": {
    "collapsed": false
   },
   "outputs": [
    {
     "data": {
      "text/plain": [
       "0.42105364468286527"
      ]
     },
     "execution_count": 5,
     "metadata": {},
     "output_type": "execute_result"
    }
   ],
   "source": [
    "claim_ratio = len(data_2006[data_2006['Claim_Amount']>0])/len(data_2006['Claim_Amount'])\n",
    "average_severity = data_2006['Claim_Amount'].sum()/len(data_2006[data_2006['Claim_Amount']>0])\n",
    "\n",
    "TRANSITION_PROBABILITY_NONNULL = TRANSITION_PROBABILITY/claim_ratio\n",
    "TRANSITION_PROBABILITY_NONNULL"
   ]
  },
  {
   "cell_type": "code",
   "execution_count": 6,
   "metadata": {
    "collapsed": false
   },
   "outputs": [],
   "source": [
    "\n",
    "\n",
    "predicted = []\n",
    "for element in data_2006['Claim_Amount']:\n",
    "    w = np.random.lognormal(0,SIGMA,1)\n",
    "    if element == 0:\n",
    "        predicted.append(TRANSITION_PROBABILITY*average_severity*w)\n",
    "    else:\n",
    "        predicted.append(np.abs(element-TRANSITION_PROBABILITY_NONNULL*average_severity)*w)"
   ]
  },
  {
   "cell_type": "code",
   "execution_count": 7,
   "metadata": {
    "collapsed": false
   },
   "outputs": [
    {
     "data": {
      "text/plain": [
       "(array([ 8699951.10052738]), 6363995.1437135413)"
      ]
     },
     "execution_count": 7,
     "metadata": {},
     "output_type": "execute_result"
    }
   ],
   "source": [
    "sum(predicted), sum(data_2006['Claim_Amount'])"
   ]
  },
  {
   "cell_type": "markdown",
   "metadata": {},
   "source": [
    "# Comparaison des données estimées et les données réelles"
   ]
  },
  {
   "cell_type": "code",
   "execution_count": 8,
   "metadata": {
    "collapsed": false
   },
   "outputs": [
    {
     "data": {
      "text/plain": [
       "[<matplotlib.lines.Line2D at 0x14e0b9eb8>]"
      ]
     },
     "execution_count": 8,
     "metadata": {},
     "output_type": "execute_result"
    },
    {
     "data": {
      "image/png": "[encoded data removed]",
      "text/plain": [
       "<matplotlib.figure.Figure at 0x112425ba8>"
      ]
     },
     "metadata": {},
     "output_type": "display_data"
    }
   ],
   "source": [
    "plt.plot(predicted)"
   ]
  },
  {
   "cell_type": "code",
   "execution_count": 9,
   "metadata": {
    "collapsed": false
   },
   "outputs": [
    {
     "data": {
      "text/plain": [
       "[<matplotlib.lines.Line2D at 0x156227ef0>]"
      ]
     },
     "execution_count": 9,
     "metadata": {},
     "output_type": "execute_result"
    },
    {
     "data": {
      "image/png": "[encoded data removed]",
      "text/plain": [
       "<matplotlib.figure.Figure at 0x14e0b3860>"
      ]
     },
     "metadata": {},
     "output_type": "display_data"
    }
   ],
   "source": [
    "plt.plot(data_2006['Claim_Amount'])"
   ]
  },
  {
   "cell_type": "code",
   "execution_count": 10,
   "metadata": {
    "collapsed": false
   },
   "outputs": [
    {
     "data": {
      "image/png": "[encoded data removed]",
      "text/plain": [
       "<matplotlib.figure.Figure at 0x1124257f0>"
      ]
     },
     "metadata": {},
     "output_type": "display_data"
    }
   ],
   "source": [
    "values, base = np.histogram(predicted, bins=40)\n",
    "values2, base2 = np.histogram(data_2006['Claim_Amount'], bins=40)\n",
    "cumulative = np.cumsum(values)\n",
    "cumulative2 = np.cumsum(values2)\n",
    "# plot the cumulative function\n",
    "plt.plot(base[:-1], cumulative, c='blue',label = 'predicted')\n",
    "#plot the survival function\n",
    "plt.plot(base[:-1], cumulative2, c='green',label = 'reel')\n",
    "plt.legend(bbox_to_anchor=(1.05, 1), loc=2, borderaxespad=0.)\n",
    "plt.show()"
   ]
  },
  {
   "cell_type": "markdown",
   "metadata": {},
   "source": [
    "# Payement Historique"
   ]
  },
  {
   "cell_type": "code",
   "execution_count": 11,
   "metadata": {
    "collapsed": false
   },
   "outputs": [],
   "source": [
    "MAX_HOUSEHOLD = np.max([np.max(data_2005['Household_ID']),np.max(data_2006['Household_ID']),np.max(data_2007['Household_ID'])])\n",
    "historical_payment = [0]*(MAX_HOUSEHOLD+1)\n",
    "\n",
    "i=0\n",
    "for element in data_2005['Claim_Amount']:\n",
    "    if element != 0:\n",
    "        historical_payment[data_2005['Household_ID'][i]]+=element\n",
    "    i=i+1\n"
   ]
  },
  {
   "cell_type": "markdown",
   "metadata": {},
   "source": [
    "# Pricing et matching"
   ]
  },
  {
   "cell_type": "code",
   "execution_count": 12,
   "metadata": {
    "collapsed": false
   },
   "outputs": [
    {
     "name": "stdout",
     "output_type": "stream",
     "text": [
      "finished\n"
     ]
    }
   ],
   "source": [
    "from IPython.display import clear_output\n",
    "prices = []\n",
    "policy_type = []\n",
    "policy_number = len(data_2006['Household_ID'])\n",
    "for i in range(policy_number):\n",
    "    non_big_data_price = p + historical_payment[data_2006['Household_ID'][i]] * RISK_PREMIUM_RATIO\n",
    "    big_data_price = predicted[i]\n",
    "    if big_data_price > non_big_data_price:\n",
    "        policy_type.append(0)\n",
    "    else: policy_type.append(1)\n",
    "    prices.append(np.min((non_big_data_price,big_data_price)))\n",
    "    if i%100000 ==0:\n",
    "        clear_output()\n",
    "        print('{}% finished'.format(i*100/policy_number))\n",
    "clear_output()\n",
    "print('finished')\n"
   ]
  },
  {
   "cell_type": "markdown",
   "metadata": {},
   "source": [
    "# Profit de fin d'année"
   ]
  },
  {
   "cell_type": "code",
   "execution_count": 13,
   "metadata": {
    "collapsed": false
   },
   "outputs": [],
   "source": [
    "big_data_profit = 0\n",
    "non_big_data_profit = 0\n",
    "\n",
    "for i in range(policy_number):\n",
    "    if policy_type[i] == 0:\n",
    "        non_big_data_profit += (prices[i]-data_2006['Claim_Amount'][i])\n",
    "    else:\n",
    "        big_data_profit += (prices[i]-data_2006['Claim_Amount'][i])"
   ]
  },
  {
   "cell_type": "code",
   "execution_count": 14,
   "metadata": {
    "collapsed": false
   },
   "outputs": [
    {
     "data": {
      "text/plain": [
       "-6296109.8217621408"
      ]
     },
     "execution_count": 14,
     "metadata": {},
     "output_type": "execute_result"
    }
   ],
   "source": [
    "non_big_data_profit"
   ]
  },
  {
   "cell_type": "code",
   "execution_count": 15,
   "metadata": {
    "collapsed": false
   },
   "outputs": [
    {
     "data": {
      "text/plain": [
       "2640869.8405340128"
      ]
     },
     "execution_count": 15,
     "metadata": {},
     "output_type": "execute_result"
    }
   ],
   "source": [
    "big_data_profit"
   ]
  },
  {
   "cell_type": "markdown",
   "metadata": {
    "collapsed": true
   },
   "source": [
    "# Estimation de profit s'il n'y a pas de Big Data"
   ]
  },
  {
   "cell_type": "code",
   "execution_count": 16,
   "metadata": {
    "collapsed": false
   },
   "outputs": [],
   "source": [
    "non_big_data_price_contrast = []\n",
    "for i in range(policy_number):\n",
    "    non_big_data_price_contrast += [p + historical_payment[data_2006['Household_ID'][i]] * RISK_PREMIUM_RATIO]\n",
    "    \n",
    "non_big_data_profit_contrast = np.sum(non_big_data_price_contrast)-np.sum(data_2006['Claim_Amount'])"
   ]
  },
  {
   "cell_type": "code",
   "execution_count": 17,
   "metadata": {
    "collapsed": false
   },
   "outputs": [
    {
     "data": {
      "text/plain": [
       "338901.02022767253"
      ]
     },
     "execution_count": 17,
     "metadata": {},
     "output_type": "execute_result"
    }
   ],
   "source": [
    "non_big_data_profit_contrast"
   ]
  },
  {
   "cell_type": "code",
   "execution_count": 18,
   "metadata": {
    "collapsed": false
   },
   "outputs": [
    {
     "data": {
      "text/plain": [
       "<matplotlib.legend.Legend at 0x15aded208>"
      ]
     },
     "execution_count": 18,
     "metadata": {},
     "output_type": "execute_result"
    },
    {
     "data": {
      "image/png": "[encoded data removed]",
      "text/plain": [
       "<matplotlib.figure.Figure at 0x15aded898>"
      ]
     },
     "metadata": {},
     "output_type": "display_data"
    }
   ],
   "source": [
    "bar_width = 0.3\n",
    "plt.bar(left = 0, height = non_big_data_profit_contrast,width=bar_width,color = 'red',label = 'Non big data contrast')\n",
    "plt.bar(left = bar_width, height = non_big_data_profit,width= bar_width,label = 'Profit pour assureur non big data')\n",
    "plt.bar(left = bar_width*2, height = big_data_profit,width=bar_width, color = 'green',label = 'Profit pour assureur big data')\n",
    "plt.legend(bbox_to_anchor=(1.05, 1), loc=2, borderaxespad=0.)"
   ]
  },
  {
   "cell_type": "code",
   "execution_count": null,
   "metadata": {
    "collapsed": true
   },
   "outputs": [],
   "source": []
  }
 ],
 "metadata": {
  "kernelspec": {
   "display_name": "Python 3",
   "language": "python",
   "name": "python3"
  },
  "language_info": {
   "codemirror_mode": {
    "name": "ipython",
    "version": 3
   },
   "file_extension": ".py",
   "mimetype": "text/x-python",
   "name": "python",
   "nbconvert_exporter": "python",
   "pygments_lexer": "ipython3",
   "version": "3.5.1"
  }
 },
 "nbformat": 4,
 "nbformat_minor": 0
}
