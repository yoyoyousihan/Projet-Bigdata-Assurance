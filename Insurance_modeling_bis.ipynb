{
 "cells": [
  {
   "cell_type": "code",
   "execution_count": 29,
   "metadata": {
    "collapsed": false
   },
   "outputs": [],
   "source": [
    "import numpy as np\n",
    "import pandas as pd\n",
    "from matplotlib import pyplot as plt\n",
    "%matplotlib inline\n",
    "\n",
    "data_2005 = pd.read_csv('2005.csv')\n",
    "data_2006 = pd.read_csv('2006.csv')\n",
    "data_2007 = pd.read_csv('2007.csv')"
   ]
  },
  {
   "cell_type": "markdown",
   "metadata": {},
   "source": [
    "# Définition des variables globales\n",
    "\n"
   ]
  },
  {
   "cell_type": "code",
   "execution_count": 47,
   "metadata": {
    "collapsed": false
   },
   "outputs": [
    {
     "data": {
      "text/html": [
       "<div>\n",
       "<table border=\"1\" class=\"dataframe\">\n",
       "  <thead>\n",
       "    <tr style=\"text-align: right;\">\n",
       "      <th></th>\n",
       "      <th>Household_ID</th>\n",
       "      <th>Claim_Amount</th>\n",
       "    </tr>\n",
       "  </thead>\n",
       "  <tbody>\n",
       "    <tr>\n",
       "      <th>0</th>\n",
       "      <td>1</td>\n",
       "      <td>0</td>\n",
       "    </tr>\n",
       "    <tr>\n",
       "      <th>1</th>\n",
       "      <td>2</td>\n",
       "      <td>0</td>\n",
       "    </tr>\n",
       "    <tr>\n",
       "      <th>2</th>\n",
       "      <td>3</td>\n",
       "      <td>0</td>\n",
       "    </tr>\n",
       "    <tr>\n",
       "      <th>3</th>\n",
       "      <td>3</td>\n",
       "      <td>0</td>\n",
       "    </tr>\n",
       "    <tr>\n",
       "      <th>4</th>\n",
       "      <td>4</td>\n",
       "      <td>0</td>\n",
       "    </tr>\n",
       "    <tr>\n",
       "      <th>5</th>\n",
       "      <td>5</td>\n",
       "      <td>0</td>\n",
       "    </tr>\n",
       "    <tr>\n",
       "      <th>6</th>\n",
       "      <td>5</td>\n",
       "      <td>0</td>\n",
       "    </tr>\n",
       "    <tr>\n",
       "      <th>7</th>\n",
       "      <td>5</td>\n",
       "      <td>0</td>\n",
       "    </tr>\n",
       "    <tr>\n",
       "      <th>8</th>\n",
       "      <td>6</td>\n",
       "      <td>0</td>\n",
       "    </tr>\n",
       "    <tr>\n",
       "      <th>9</th>\n",
       "      <td>6</td>\n",
       "      <td>0</td>\n",
       "    </tr>\n",
       "    <tr>\n",
       "      <th>10</th>\n",
       "      <td>9</td>\n",
       "      <td>0</td>\n",
       "    </tr>\n",
       "    <tr>\n",
       "      <th>11</th>\n",
       "      <td>9</td>\n",
       "      <td>0</td>\n",
       "    </tr>\n",
       "    <tr>\n",
       "      <th>12</th>\n",
       "      <td>9</td>\n",
       "      <td>0</td>\n",
       "    </tr>\n",
       "    <tr>\n",
       "      <th>13</th>\n",
       "      <td>9</td>\n",
       "      <td>0</td>\n",
       "    </tr>\n",
       "    <tr>\n",
       "      <th>14</th>\n",
       "      <td>10</td>\n",
       "      <td>0</td>\n",
       "    </tr>\n",
       "    <tr>\n",
       "      <th>15</th>\n",
       "      <td>10</td>\n",
       "      <td>0</td>\n",
       "    </tr>\n",
       "    <tr>\n",
       "      <th>16</th>\n",
       "      <td>10</td>\n",
       "      <td>0</td>\n",
       "    </tr>\n",
       "    <tr>\n",
       "      <th>17</th>\n",
       "      <td>10</td>\n",
       "      <td>0</td>\n",
       "    </tr>\n",
       "    <tr>\n",
       "      <th>18</th>\n",
       "      <td>11</td>\n",
       "      <td>0</td>\n",
       "    </tr>\n",
       "    <tr>\n",
       "      <th>19</th>\n",
       "      <td>11</td>\n",
       "      <td>0</td>\n",
       "    </tr>\n",
       "    <tr>\n",
       "      <th>20</th>\n",
       "      <td>12</td>\n",
       "      <td>0</td>\n",
       "    </tr>\n",
       "    <tr>\n",
       "      <th>21</th>\n",
       "      <td>12</td>\n",
       "      <td>0</td>\n",
       "    </tr>\n",
       "    <tr>\n",
       "      <th>22</th>\n",
       "      <td>12</td>\n",
       "      <td>0</td>\n",
       "    </tr>\n",
       "    <tr>\n",
       "      <th>23</th>\n",
       "      <td>12</td>\n",
       "      <td>0</td>\n",
       "    </tr>\n",
       "    <tr>\n",
       "      <th>24</th>\n",
       "      <td>13</td>\n",
       "      <td>0</td>\n",
       "    </tr>\n",
       "    <tr>\n",
       "      <th>25</th>\n",
       "      <td>13</td>\n",
       "      <td>0</td>\n",
       "    </tr>\n",
       "    <tr>\n",
       "      <th>26</th>\n",
       "      <td>13</td>\n",
       "      <td>0</td>\n",
       "    </tr>\n",
       "    <tr>\n",
       "      <th>27</th>\n",
       "      <td>16</td>\n",
       "      <td>0</td>\n",
       "    </tr>\n",
       "    <tr>\n",
       "      <th>28</th>\n",
       "      <td>16</td>\n",
       "      <td>0</td>\n",
       "    </tr>\n",
       "    <tr>\n",
       "      <th>29</th>\n",
       "      <td>16</td>\n",
       "      <td>0</td>\n",
       "    </tr>\n",
       "    <tr>\n",
       "      <th>...</th>\n",
       "      <td>...</td>\n",
       "      <td>...</td>\n",
       "    </tr>\n",
       "    <tr>\n",
       "      <th>1048545</th>\n",
       "      <td>2644449</td>\n",
       "      <td>0</td>\n",
       "    </tr>\n",
       "    <tr>\n",
       "      <th>1048546</th>\n",
       "      <td>2644450</td>\n",
       "      <td>0</td>\n",
       "    </tr>\n",
       "    <tr>\n",
       "      <th>1048547</th>\n",
       "      <td>2644451</td>\n",
       "      <td>0</td>\n",
       "    </tr>\n",
       "    <tr>\n",
       "      <th>1048548</th>\n",
       "      <td>2644452</td>\n",
       "      <td>0</td>\n",
       "    </tr>\n",
       "    <tr>\n",
       "      <th>1048549</th>\n",
       "      <td>2644453</td>\n",
       "      <td>0</td>\n",
       "    </tr>\n",
       "    <tr>\n",
       "      <th>1048550</th>\n",
       "      <td>2644454</td>\n",
       "      <td>0</td>\n",
       "    </tr>\n",
       "    <tr>\n",
       "      <th>1048551</th>\n",
       "      <td>2644454</td>\n",
       "      <td>0</td>\n",
       "    </tr>\n",
       "    <tr>\n",
       "      <th>1048552</th>\n",
       "      <td>2644455</td>\n",
       "      <td>0</td>\n",
       "    </tr>\n",
       "    <tr>\n",
       "      <th>1048553</th>\n",
       "      <td>2644455</td>\n",
       "      <td>0</td>\n",
       "    </tr>\n",
       "    <tr>\n",
       "      <th>1048554</th>\n",
       "      <td>2644456</td>\n",
       "      <td>0</td>\n",
       "    </tr>\n",
       "    <tr>\n",
       "      <th>1048555</th>\n",
       "      <td>2644457</td>\n",
       "      <td>0</td>\n",
       "    </tr>\n",
       "    <tr>\n",
       "      <th>1048556</th>\n",
       "      <td>2644457</td>\n",
       "      <td>0</td>\n",
       "    </tr>\n",
       "    <tr>\n",
       "      <th>1048557</th>\n",
       "      <td>2644459</td>\n",
       "      <td>0</td>\n",
       "    </tr>\n",
       "    <tr>\n",
       "      <th>1048558</th>\n",
       "      <td>2644460</td>\n",
       "      <td>0</td>\n",
       "    </tr>\n",
       "    <tr>\n",
       "      <th>1048559</th>\n",
       "      <td>2644461</td>\n",
       "      <td>0</td>\n",
       "    </tr>\n",
       "    <tr>\n",
       "      <th>1048560</th>\n",
       "      <td>2644462</td>\n",
       "      <td>0</td>\n",
       "    </tr>\n",
       "    <tr>\n",
       "      <th>1048561</th>\n",
       "      <td>2644462</td>\n",
       "      <td>0</td>\n",
       "    </tr>\n",
       "    <tr>\n",
       "      <th>1048562</th>\n",
       "      <td>2644463</td>\n",
       "      <td>0</td>\n",
       "    </tr>\n",
       "    <tr>\n",
       "      <th>1048563</th>\n",
       "      <td>2644465</td>\n",
       "      <td>0</td>\n",
       "    </tr>\n",
       "    <tr>\n",
       "      <th>1048564</th>\n",
       "      <td>2644466</td>\n",
       "      <td>0</td>\n",
       "    </tr>\n",
       "    <tr>\n",
       "      <th>1048565</th>\n",
       "      <td>2644467</td>\n",
       "      <td>0</td>\n",
       "    </tr>\n",
       "    <tr>\n",
       "      <th>1048566</th>\n",
       "      <td>2644468</td>\n",
       "      <td>0</td>\n",
       "    </tr>\n",
       "    <tr>\n",
       "      <th>1048567</th>\n",
       "      <td>2644468</td>\n",
       "      <td>0</td>\n",
       "    </tr>\n",
       "    <tr>\n",
       "      <th>1048568</th>\n",
       "      <td>2644469</td>\n",
       "      <td>0</td>\n",
       "    </tr>\n",
       "    <tr>\n",
       "      <th>1048569</th>\n",
       "      <td>2644470</td>\n",
       "      <td>0</td>\n",
       "    </tr>\n",
       "    <tr>\n",
       "      <th>1048570</th>\n",
       "      <td>2644471</td>\n",
       "      <td>0</td>\n",
       "    </tr>\n",
       "    <tr>\n",
       "      <th>1048571</th>\n",
       "      <td>2644473</td>\n",
       "      <td>0</td>\n",
       "    </tr>\n",
       "    <tr>\n",
       "      <th>1048572</th>\n",
       "      <td>2644474</td>\n",
       "      <td>0</td>\n",
       "    </tr>\n",
       "    <tr>\n",
       "      <th>1048573</th>\n",
       "      <td>2644476</td>\n",
       "      <td>0</td>\n",
       "    </tr>\n",
       "    <tr>\n",
       "      <th>1048574</th>\n",
       "      <td>2644477</td>\n",
       "      <td>0</td>\n",
       "    </tr>\n",
       "  </tbody>\n",
       "</table>\n",
       "<p>1048575 rows × 2 columns</p>\n",
       "</div>"
      ],
      "text/plain": [
       "         Household_ID  Claim_Amount\n",
       "0                   1             0\n",
       "1                   2             0\n",
       "2                   3             0\n",
       "3                   3             0\n",
       "4                   4             0\n",
       "5                   5             0\n",
       "6                   5             0\n",
       "7                   5             0\n",
       "8                   6             0\n",
       "9                   6             0\n",
       "10                  9             0\n",
       "11                  9             0\n",
       "12                  9             0\n",
       "13                  9             0\n",
       "14                 10             0\n",
       "15                 10             0\n",
       "16                 10             0\n",
       "17                 10             0\n",
       "18                 11             0\n",
       "19                 11             0\n",
       "20                 12             0\n",
       "21                 12             0\n",
       "22                 12             0\n",
       "23                 12             0\n",
       "24                 13             0\n",
       "25                 13             0\n",
       "26                 13             0\n",
       "27                 16             0\n",
       "28                 16             0\n",
       "29                 16             0\n",
       "...               ...           ...\n",
       "1048545       2644449             0\n",
       "1048546       2644450             0\n",
       "1048547       2644451             0\n",
       "1048548       2644452             0\n",
       "1048549       2644453             0\n",
       "1048550       2644454             0\n",
       "1048551       2644454             0\n",
       "1048552       2644455             0\n",
       "1048553       2644455             0\n",
       "1048554       2644456             0\n",
       "1048555       2644457             0\n",
       "1048556       2644457             0\n",
       "1048557       2644459             0\n",
       "1048558       2644460             0\n",
       "1048559       2644461             0\n",
       "1048560       2644462             0\n",
       "1048561       2644462             0\n",
       "1048562       2644463             0\n",
       "1048563       2644465             0\n",
       "1048564       2644466             0\n",
       "1048565       2644467             0\n",
       "1048566       2644468             0\n",
       "1048567       2644468             0\n",
       "1048568       2644469             0\n",
       "1048569       2644470             0\n",
       "1048570       2644471             0\n",
       "1048571       2644473             0\n",
       "1048572       2644474             0\n",
       "1048573       2644476             0\n",
       "1048574       2644477             0\n",
       "\n",
       "[1048575 rows x 2 columns]"
      ]
     },
     "execution_count": 47,
     "metadata": {},
     "output_type": "execute_result"
    }
   ],
   "source": [
    "RISK_PREMIUM_RATIO = 0.1\n",
    "TRANSITION_PROBABILITY = 0.05\n",
    "SIGMA = 0.1\n",
    "data_2005"
   ]
  },
  {
   "cell_type": "markdown",
   "metadata": {},
   "source": [
    "# Traitement des données de l'année 2005 pour estimer le prix en 2006. \n",
    "\n",
    "### le prix juste de 2006 est calculé à partir de l'année 2005 et les valeurs sont donc martigales. \n",
    "### comme le prix juste est martingale, il doit neutraliser la perte."
   ]
  },
  {
   "cell_type": "code",
   "execution_count": 31,
   "metadata": {
    "collapsed": false
   },
   "outputs": [],
   "source": [
    "p = data_2005['Claim_Amount'].sum()/len(data_2005['Claim_Amount'])"
   ]
  },
  {
   "cell_type": "code",
   "execution_count": 32,
   "metadata": {
    "collapsed": false
   },
   "outputs": [],
   "source": [
    "claim_ratio_2005 = len(data_2005[data_2005['Claim_Amount']>0])/len(data_2005['Claim_Amount'])\n",
    "average_severity_2005 = data_2005['Claim_Amount'].sum()/len(data_2005[data_2005['Claim_Amount']>0])"
   ]
  },
  {
   "cell_type": "markdown",
   "metadata": {},
   "source": [
    "### L'estimation de big data permet d'identifier la perte potentielle par client, donc, le prix juste égale à la perte estimée.\n",
    "\n",
    "### Ici, on n'utilise pas le méthode d'apprentissage pour estimer les perte future, mais on suppose que la perte future est connue et on estime la prédiction. \n",
    "\n",
    "On a, par hypothèse:\n",
    "\n",
    "$perte\\ réelle_i = perte\\ estimée_i \\times v_i$\n",
    "\n",
    "pour créer des données positives pour la prédiction, on suppose:\n",
    "\n",
    "si $i$ est un individu qui n'a pas d'accident en 2016:\n",
    "\n",
    "$ perte\\ estimée_i = (perte\\ réelle_i + transition\\ probability \\times perte\\ moyenne) \\times w_i $\n",
    "\n",
    "sinon :\n",
    "\n",
    "$ perte\\ estimée_i = (perte\\ réelle_i - transition\\ probability' \\times perte\\ moyenne) \\times w_i$"
   ]
  },
  {
   "cell_type": "code",
   "execution_count": 33,
   "metadata": {
    "collapsed": false
   },
   "outputs": [
    {
     "data": {
      "text/plain": [
       "7.017560744714421"
      ]
     },
     "execution_count": 33,
     "metadata": {},
     "output_type": "execute_result"
    }
   ],
   "source": [
    "claim_ratio = len(data_2006[data_2006['Claim_Amount']>0])/len(data_2006['Claim_Amount'])\n",
    "average_severity = data_2006['Claim_Amount'].sum()/len(data_2006[data_2006['Claim_Amount']>0])\n",
    "\n",
    "TRANSITION_PROBABILITY_NONNULL = TRANSITION_PROBABILITY/claim_ratio\n",
    "TRANSITION_PROBABILITY_NONNULL"
   ]
  },
  {
   "cell_type": "code",
   "execution_count": 34,
   "metadata": {
    "collapsed": false
   },
   "outputs": [],
   "source": [
    "\n",
    "\n",
    "predicted = []\n",
    "for element in data_2006['Claim_Amount']:\n",
    "    w = np.random.lognormal(0,SIGMA,1)\n",
    "    if element == 0:\n",
    "        predicted.append(TRANSITION_PROBABILITY*average_severity*w)\n",
    "    else:\n",
    "        predicted.append(np.abs(element-TRANSITION_PROBABILITY_NONNULL*average_severity)*w)"
   ]
  },
  {
   "cell_type": "code",
   "execution_count": 35,
   "metadata": {
    "collapsed": false
   },
   "outputs": [
    {
     "data": {
      "text/plain": [
       "(array([ 84685757.02485247]), 6363995.1437135413)"
      ]
     },
     "execution_count": 35,
     "metadata": {},
     "output_type": "execute_result"
    }
   ],
   "source": [
    "sum(predicted), sum(data_2006['Claim_Amount'])"
   ]
  },
  {
   "cell_type": "markdown",
   "metadata": {},
   "source": [
    "# Comparaison des données estimées et les données réelles"
   ]
  },
  {
   "cell_type": "code",
   "execution_count": 36,
   "metadata": {
    "collapsed": false
   },
   "outputs": [
    {
     "data": {
      "text/plain": [
       "[<matplotlib.lines.Line2D at 0x144238b00>]"
      ]
     },
     "execution_count": 36,
     "metadata": {},
     "output_type": "execute_result"
    },
    {
     "data": {
      "image/png": "[encoded data removed]",
      "text/plain": [
       "<matplotlib.figure.Figure at 0x11af27978>"
      ]
     },
     "metadata": {},
     "output_type": "display_data"
    }
   ],
   "source": [
    "plt.plot(predicted)"
   ]
  },
  {
   "cell_type": "code",
   "execution_count": 37,
   "metadata": {
    "collapsed": false
   },
   "outputs": [
    {
     "data": {
      "text/plain": [
       "[<matplotlib.lines.Line2D at 0x14425aa58>]"
      ]
     },
     "execution_count": 37,
     "metadata": {},
     "output_type": "execute_result"
    },
    {
     "data": {
      "image/png": "[encoded data removed]",
      "text/plain": [
       "<matplotlib.figure.Figure at 0x15074e940>"
      ]
     },
     "metadata": {},
     "output_type": "display_data"
    }
   ],
   "source": [
    "plt.plot(data_2006['Claim_Amount'])"
   ]
  },
  {
   "cell_type": "code",
   "execution_count": 38,
   "metadata": {
    "collapsed": false
   },
   "outputs": [
    {
     "data": {
      "image/png": "[encoded data removed]",
      "text/plain": [
       "<matplotlib.figure.Figure at 0x11af1aa20>"
      ]
     },
     "metadata": {},
     "output_type": "display_data"
    }
   ],
   "source": [
    "values, base = np.histogram(predicted, bins=40)\n",
    "values2, base2 = np.histogram(data_2006['Claim_Amount'], bins=40)\n",
    "cumulative = np.cumsum(values)\n",
    "cumulative2 = np.cumsum(values2)\n",
    "# plot the cumulative function\n",
    "plt.plot(base[:-1], cumulative, c='blue',label = 'predicted')\n",
    "#plot the survival function\n",
    "plt.plot(base[:-1], cumulative2, c='green',label = 'reel')\n",
    "plt.legend(bbox_to_anchor=(1.05, 1), loc=2, borderaxespad=0.)\n",
    "plt.show()"
   ]
  },
  {
   "cell_type": "markdown",
   "metadata": {},
   "source": [
    "# Payement Historique"
   ]
  },
  {
   "cell_type": "code",
   "execution_count": 39,
   "metadata": {
    "collapsed": false
   },
   "outputs": [],
   "source": [
    "MAX_HOUSEHOLD = np.max([np.max(data_2005['Household_ID']),np.max(data_2006['Household_ID']),np.max(data_2007['Household_ID'])])\n",
    "historical_payment = [0]*(MAX_HOUSEHOLD+1)\n",
    "\n",
    "i=0\n",
    "for element in data_2005['Claim_Amount']:\n",
    "    if element != 0:\n",
    "        historical_payment[data_2005['Household_ID'][i]]+=element\n",
    "    i=i+1\n"
   ]
  },
  {
   "cell_type": "markdown",
   "metadata": {},
   "source": [
    "# Pricing et matching"
   ]
  },
  {
   "cell_type": "code",
   "execution_count": 40,
   "metadata": {
    "collapsed": false
   },
   "outputs": [
    {
     "name": "stdout",
     "output_type": "stream",
     "text": [
      "finished\n"
     ]
    }
   ],
   "source": [
    "from IPython.display import clear_output\n",
    "prices = []\n",
    "policy_type = []\n",
    "policy_number = len(data_2006['Household_ID'])\n",
    "for i in range(policy_number):\n",
    "    non_big_data_price = p + historical_payment[data_2006['Household_ID'][i]] * RISK_PREMIUM_RATIO\n",
    "    big_data_price = predicted[i]\n",
    "    if big_data_price > non_big_data_price:\n",
    "        policy_type.append(0)\n",
    "    else: policy_type.append(1)\n",
    "    prices.append(np.min((non_big_data_price,big_data_price)))\n",
    "    if i%100000 ==0:\n",
    "        clear_output()\n",
    "        print('{}% finished'.format(i*100/policy_number))\n",
    "clear_output()\n",
    "print('finished')\n"
   ]
  },
  {
   "cell_type": "markdown",
   "metadata": {},
   "source": [
    "# Profit de fin d'année"
   ]
  },
  {
   "cell_type": "code",
   "execution_count": 41,
   "metadata": {
    "collapsed": false
   },
   "outputs": [],
   "source": [
    "big_data_profit = 0\n",
    "non_big_data_profit = 0\n",
    "\n",
    "for i in range(policy_number):\n",
    "    if policy_type[i] == 0:\n",
    "        non_big_data_profit += (prices[i]-data_2006['Claim_Amount'][i])\n",
    "    else:\n",
    "        big_data_profit += (prices[i]-data_2006['Claim_Amount'][i])"
   ]
  },
  {
   "cell_type": "code",
   "execution_count": 42,
   "metadata": {
    "collapsed": false
   },
   "outputs": [
    {
     "data": {
      "text/plain": [
       "127439.83251822181"
      ]
     },
     "execution_count": 42,
     "metadata": {},
     "output_type": "execute_result"
    }
   ],
   "source": [
    "non_big_data_profit"
   ]
  },
  {
   "cell_type": "code",
   "execution_count": 43,
   "metadata": {
    "collapsed": false
   },
   "outputs": [
    {
     "data": {
      "text/plain": [
       "38740.847664755674"
      ]
     },
     "execution_count": 43,
     "metadata": {},
     "output_type": "execute_result"
    }
   ],
   "source": [
    "big_data_profit"
   ]
  },
  {
   "cell_type": "markdown",
   "metadata": {
    "collapsed": true
   },
   "source": [
    "# Estimation de profit s'il n'y a pas de Big Data"
   ]
  },
  {
   "cell_type": "code",
   "execution_count": 44,
   "metadata": {
    "collapsed": false
   },
   "outputs": [],
   "source": [
    "non_big_data_price_contrast = []\n",
    "for i in range(policy_number):\n",
    "    non_big_data_price_contrast += [p + historical_payment[data_2006['Household_ID'][i]] * RISK_PREMIUM_RATIO]\n",
    "    \n",
    "non_big_data_profit_contrast = np.sum(non_big_data_price_contrast)-np.sum(data_2006['Claim_Amount'])"
   ]
  },
  {
   "cell_type": "code",
   "execution_count": 45,
   "metadata": {
    "collapsed": false
   },
   "outputs": [
    {
     "data": {
      "text/plain": [
       "338901.02022767253"
      ]
     },
     "execution_count": 45,
     "metadata": {},
     "output_type": "execute_result"
    }
   ],
   "source": [
    "non_big_data_profit_contrast"
   ]
  },
  {
   "cell_type": "code",
   "execution_count": 46,
   "metadata": {
    "collapsed": false
   },
   "outputs": [
    {
     "data": {
      "text/plain": [
       "<matplotlib.legend.Legend at 0x115030be0>"
      ]
     },
     "execution_count": 46,
     "metadata": {},
     "output_type": "execute_result"
    },
    {
     "data": {
      "image/png": "[encoded data removed]",
      "text/plain": [
       "<matplotlib.figure.Figure at 0x115030dd8>"
      ]
     },
     "metadata": {},
     "output_type": "display_data"
    }
   ],
   "source": [
    "bar_width = 0.3\n",
    "plt.bar(left = 0, height = non_big_data_profit_contrast,width=bar_width,color = 'red',label = 'Non big data contrast')\n",
    "plt.bar(left = bar_width, height = non_big_data_profit,width= bar_width,label = 'Profit pour assureur non big data')\n",
    "plt.bar(left = bar_width*2, height = big_data_profit,width=bar_width, color = 'green',label = 'Profit pour assureur big data')\n",
    "plt.legend(bbox_to_anchor=(1.05, 1), loc=2, borderaxespad=0.)"
   ]
  },
  {
   "cell_type": "code",
   "execution_count": null,
   "metadata": {
    "collapsed": true
   },
   "outputs": [],
   "source": []
  }
 ],
 "metadata": {
  "kernelspec": {
   "display_name": "Python 3",
   "language": "python",
   "name": "python3"
  },
  "language_info": {
   "codemirror_mode": {
    "name": "ipython",
    "version": 3
   },
   "file_extension": ".py",
   "mimetype": "text/x-python",
   "name": "python",
   "nbconvert_exporter": "python",
   "pygments_lexer": "ipython3",
   "version": "3.5.1"
  }
 },
 "nbformat": 4,
 "nbformat_minor": 0
}
